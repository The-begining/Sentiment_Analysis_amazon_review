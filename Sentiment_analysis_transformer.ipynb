{
  "cells": [
    {
      "cell_type": "markdown",
      "metadata": {
        "id": "view-in-github",
        "colab_type": "text"
      },
      "source": [
        "<a href=\"https://colab.research.google.com/github/The-begining/Sentiment_Analysis_amazon_review/blob/main/Sentiment_analysis_transformer.ipynb\" target=\"_parent\"><img src=\"https://colab.research.google.com/assets/colab-badge.svg\" alt=\"Open In Colab\"/></a>"
      ]
    },
    {
      "cell_type": "code",
      "execution_count": null,
      "metadata": {
        "id": "243u2hoRqZhL"
      },
      "outputs": [],
      "source": []
    },
    {
      "cell_type": "code",
      "execution_count": null,
      "metadata": {
        "colab": {
          "base_uri": "https://localhost:8080/"
        },
        "id": "5Wxo0J3Pqb6y",
        "outputId": "64aca449-15cf-48e7-bf93-b1fca900028a"
      },
      "outputs": [
        {
          "output_type": "stream",
          "name": "stdout",
          "text": [
            "Mounted at /content/drive\n"
          ]
        }
      ],
      "source": [
        "from google.colab import drive\n",
        "drive.mount('/content/drive')"
      ]
    },
    {
      "cell_type": "code",
      "execution_count": null,
      "metadata": {
        "id": "EKlSQebnqchg"
      },
      "outputs": [],
      "source": [
        "import pandas as pd"
      ]
    },
    {
      "cell_type": "code",
      "execution_count": null,
      "metadata": {
        "id": "XIDq_KWOqoU_"
      },
      "outputs": [],
      "source": [
        "train_df = pd.read_csv('/content/drive/MyDrive/training_set_cleaned.csv')\n",
        "test_df = pd.read_csv('/content/drive/MyDrive/test_dataset_cleaned.csv')"
      ]
    },
    {
      "cell_type": "code",
      "execution_count": null,
      "metadata": {
        "id": "-oYtrlwlq3Ij"
      },
      "outputs": [],
      "source": [
        "train_df['Sentiments'] = train_df['Sentiments'].astype(int)\n",
        "test_df['Sentiments'] = test_df['Sentiments'].astype(int)\n",
        "\n",
        "\n",
        "train_df['text'] = train_df['text'].astype(str).fillna('')\n",
        "test_df['text'] = test_df['text'].astype(str).fillna('')"
      ]
    },
    {
      "cell_type": "code",
      "source": [
        "train_df['text'][1]"
      ],
      "metadata": {
        "colab": {
          "base_uri": "https://localhost:8080/",
          "height": 105
        },
        "id": "krqVntoRSMUw",
        "outputId": "2591a47d-6d06-4f02-e19c-e3fc71ae3108"
      },
      "execution_count": null,
      "outputs": [
        {
          "output_type": "execute_result",
          "data": {
            "text/plain": [
              "'the best soundtrack ever to anythingim reading a lot of reviews saying that this is the best game soundtrack and i figured that id write a review to disagree a bit this in my opinino is yasunori mitsudas ultimate masterpiece the music is timeless and im been listening to it for years now and its beauty simply refuses to fadethe price tag on this is pretty staggering i must say but if you are going to buy any cd for this much money this is the only one that i feel would be worth every penny'"
            ],
            "application/vnd.google.colaboratory.intrinsic+json": {
              "type": "string"
            }
          },
          "metadata": {},
          "execution_count": 4
        }
      ]
    },
    {
      "cell_type": "code",
      "source": [
        "import pandas as pd\n",
        "import nltk\n",
        "from nltk.stem import WordNetLemmatizer\n",
        "nltk.download('wordnet')\n",
        "nltk.download('omw-1.4')\n",
        "nltk.download('punkt')"
      ],
      "metadata": {
        "colab": {
          "base_uri": "https://localhost:8080/"
        },
        "id": "KklqeQZ4Rtfr",
        "outputId": "eda4da00-8a4d-4d7e-e3f8-4adabcf467f8"
      },
      "execution_count": null,
      "outputs": [
        {
          "output_type": "stream",
          "name": "stderr",
          "text": [
            "[nltk_data] Downloading package wordnet to /root/nltk_data...\n",
            "[nltk_data]   Package wordnet is already up-to-date!\n",
            "[nltk_data] Downloading package omw-1.4 to /root/nltk_data...\n",
            "[nltk_data]   Package omw-1.4 is already up-to-date!\n",
            "[nltk_data] Downloading package punkt to /root/nltk_data...\n",
            "[nltk_data]   Package punkt is already up-to-date!\n"
          ]
        },
        {
          "output_type": "execute_result",
          "data": {
            "text/plain": [
              "True"
            ]
          },
          "metadata": {},
          "execution_count": 5
        }
      ]
    },
    {
      "cell_type": "code",
      "source": [
        "# Initialize the WordNetLemmatizer\n",
        "lemmatizer = WordNetLemmatizer()"
      ],
      "metadata": {
        "id": "XUKAH2agSB0N"
      },
      "execution_count": null,
      "outputs": []
    },
    {
      "cell_type": "code",
      "source": [
        "# Define a function to lemmatize text\n",
        "def lemmatize_text(text):\n",
        "    # Tokenize the text\n",
        "    tokens = nltk.word_tokenize(text)\n",
        "    # Lemmatize each token and join them back into a single string\n",
        "    lemmatized_text = ' '.join([lemmatizer.lemmatize(token) for token in tokens])\n",
        "    return lemmatized_text"
      ],
      "metadata": {
        "id": "m6O8nvWGSBw3"
      },
      "execution_count": null,
      "outputs": []
    },
    {
      "cell_type": "code",
      "source": [
        "#train_df = train_df.sample(n = 50000, random_state=42)\n",
        "#test_df = test_df.sample(n=10000, random_state=42)\n"
      ],
      "metadata": {
        "id": "hOyQhLPqSBsI"
      },
      "execution_count": null,
      "outputs": []
    },
    {
      "cell_type": "code",
      "source": [
        "from nltk.corpus import stopwords\n",
        "from nltk.tokenize import word_tokenize\n",
        "nltk.download('stopwords')\n",
        "# Initialize the set of stop words\n",
        "stop_words = set(stopwords.words('english'))\n",
        "\n",
        "# Defining a function to remove stop words\n",
        "def remove_stop_words(text):\n",
        "    words = word_tokenize(text) # Tokenize the text\n",
        "    filtered_words = [word for word in words if word.lower() not in stop_words] # Filter out stop words\n",
        "    filtered_text = ' '.join(filtered_words)  # Join the filtered words back into a single string\n",
        "    return filtered_text\n",
        "\n",
        "# Apply the function to the 'text' column of the train and test Dataset\n",
        "train_df['text'] = train_df['text'].apply(remove_stop_words)\n",
        "test_df['text'] = test_df['text'].apply(remove_stop_words)"
      ],
      "metadata": {
        "colab": {
          "base_uri": "https://localhost:8080/"
        },
        "id": "aUNhtIDGZTC3",
        "outputId": "2540b81a-9fc0-471d-e967-fd4a08a6887c"
      },
      "execution_count": null,
      "outputs": [
        {
          "output_type": "stream",
          "name": "stderr",
          "text": [
            "[nltk_data] Downloading package stopwords to /root/nltk_data...\n",
            "[nltk_data]   Package stopwords is already up-to-date!\n"
          ]
        }
      ]
    },
    {
      "cell_type": "code",
      "source": [
        "train_df['text'][1]"
      ],
      "metadata": {
        "colab": {
          "base_uri": "https://localhost:8080/",
          "height": 70
        },
        "id": "nHnQpoRPZ9ND",
        "outputId": "5b4a19ba-459b-45e8-ccc6-020e59e87a7d"
      },
      "execution_count": null,
      "outputs": [
        {
          "output_type": "execute_result",
          "data": {
            "text/plain": [
              "'best soundtrack ever anythingim reading lot reviews saying best game soundtrack figured id write review disagree bit opinino yasunori mitsudas ultimate masterpiece music timeless im listening years beauty simply refuses fadethe price tag pretty staggering must say going buy cd much money one feel would worth every penny'"
            ],
            "application/vnd.google.colaboratory.intrinsic+json": {
              "type": "string"
            }
          },
          "metadata": {},
          "execution_count": 10
        }
      ]
    },
    {
      "cell_type": "code",
      "source": [
        "train_df.shape"
      ],
      "metadata": {
        "colab": {
          "base_uri": "https://localhost:8080/"
        },
        "id": "1eWSmp0au7Wo",
        "outputId": "979e3d25-8d5d-49de-e20c-0a6c52618e16"
      },
      "execution_count": null,
      "outputs": [
        {
          "output_type": "execute_result",
          "data": {
            "text/plain": [
              "(2400000, 3)"
            ]
          },
          "metadata": {},
          "execution_count": 11
        }
      ]
    },
    {
      "cell_type": "code",
      "source": [
        "# Lemmatization\n",
        "train_df['text'] = train_df['text'].apply(lemmatize_text)\n",
        "test_df['text'] = test_df['text'].apply(lemmatize_text)"
      ],
      "metadata": {
        "id": "TaYqZi6TbqBH"
      },
      "execution_count": null,
      "outputs": []
    },
    {
      "cell_type": "code",
      "source": [],
      "metadata": {
        "id": "tL3PEEqGbpwT"
      },
      "execution_count": null,
      "outputs": []
    },
    {
      "cell_type": "code",
      "execution_count": null,
      "metadata": {
        "id": "3VWGEmErrBft"
      },
      "outputs": [],
      "source": [
        "import tensorflow as tf\n",
        "from tensorflow.keras.layers import Input, Embedding, GlobalAveragePooling1D, Dense, Dropout\n",
        "from tensorflow.keras.models import Model\n",
        "from sklearn.metrics import classification_report, confusion_matrix, accuracy_score\n",
        "import numpy as np\n",
        "import matplotlib.pyplot as plt\n",
        "import seaborn as sns"
      ]
    },
    {
      "cell_type": "code",
      "execution_count": null,
      "metadata": {
        "id": "gh64ZJ_ZrHTp"
      },
      "outputs": [],
      "source": [
        "# Data Preparation\n",
        "train_texts = train_df['text'].values\n",
        "train_labels = train_df['Sentiments'].values\n",
        "test_texts = test_df['text'].values\n",
        "test_labels = test_df['Sentiments'].values"
      ]
    },
    {
      "cell_type": "code",
      "execution_count": null,
      "metadata": {
        "id": "S6ynqRqHrLir"
      },
      "outputs": [],
      "source": [
        "# Tokenization\n",
        "tokenizer = tf.keras.preprocessing.text.Tokenizer()\n",
        "tokenizer.fit_on_texts(train_texts)\n",
        "\n",
        "train_sequences = tokenizer.texts_to_sequences(train_texts)\n",
        "test_sequences = tokenizer.texts_to_sequences(test_texts)\n",
        "\n",
        "max_sequence_length = max(max(len(seq) for seq in train_sequences), max(len(seq) for seq in test_sequences))\n",
        "train_sequences = tf.keras.preprocessing.sequence.pad_sequences(train_sequences, maxlen=max_sequence_length)\n",
        "test_sequences = tf.keras.preprocessing.sequence.pad_sequences(test_sequences, maxlen=max_sequence_length)"
      ]
    },
    {
      "cell_type": "code",
      "execution_count": null,
      "metadata": {
        "id": "-YRF2LukrU_J"
      },
      "outputs": [],
      "source": [
        "from tensorflow.keras.layers import LayerNormalization, MultiHeadAttention, Dropout, Dense\n",
        "\n",
        "def TransformerLayer(units, num_heads, dropout, activation='relu'):\n",
        "    inputs = Input(shape=(None, units))\n",
        "    attention = MultiHeadAttention(num_heads=num_heads, key_dim=units // num_heads)(inputs, inputs)\n",
        "    attention = Dropout(dropout)(attention)\n",
        "    attention = LayerNormalization(epsilon=1e-6)(inputs + attention)\n",
        "    outputs = Dense(units, activation=activation)(attention)\n",
        "    outputs = Dropout(dropout)(outputs)\n",
        "    outputs = LayerNormalization(epsilon=1e-6)(attention + outputs)\n",
        "    return Model(inputs=inputs, outputs=outputs)\n",
        "\n",
        "transformer_layer = TransformerLayer(units=128, num_heads=2, dropout=0.1)\n"
      ]
    },
    {
      "cell_type": "code",
      "execution_count": null,
      "metadata": {
        "id": "PDtJv8_5y0Si"
      },
      "outputs": [],
      "source": [
        "import tensorflow as tf\n",
        "from tensorflow.keras.layers import Input, Embedding, GlobalAveragePooling1D, Dense, Dropout, LayerNormalization, MultiHeadAttention\n",
        "from tensorflow.keras.models import Model\n",
        "from tensorflow.keras.callbacks import EarlyStopping\n",
        "from tensorflow.keras.optimizers import Adam"
      ]
    },
    {
      "cell_type": "code",
      "execution_count": null,
      "metadata": {
        "id": "B5HMexGctAui"
      },
      "outputs": [],
      "source": []
    },
    {
      "cell_type": "code",
      "execution_count": null,
      "metadata": {
        "id": "U20XlUk1tM36"
      },
      "outputs": [],
      "source": [
        "max_sequence_length = max(max(len(seq) for seq in train_sequences), max(len(seq) for seq in test_sequences))\n",
        "train_sequences = tf.keras.preprocessing.sequence.pad_sequences(train_sequences, maxlen=max_sequence_length)\n",
        "test_sequences = tf.keras.preprocessing.sequence.pad_sequences(test_sequences, maxlen=max_sequence_length)"
      ]
    },
    {
      "cell_type": "code",
      "execution_count": null,
      "metadata": {
        "id": "ZDLoyaRHy0Sj"
      },
      "outputs": [],
      "source": [
        "\n",
        "# Model Architecture\n",
        "inputs = Input(shape=(max_sequence_length,))\n",
        "embedding_layer = Embedding(input_dim=len(tokenizer.word_index) + 1, output_dim=128)(inputs)\n",
        "transformer_output = TransformerLayer(units=128, num_heads=2, dropout=0.1)(embedding_layer)\n",
        "pooling_layer = GlobalAveragePooling1D()(transformer_output)\n",
        "dropout_layer = Dropout(0.2)(pooling_layer)\n",
        "outputs = Dense(1, activation='sigmoid')(dropout_layer)"
      ]
    },
    {
      "cell_type": "code",
      "execution_count": null,
      "metadata": {
        "id": "yn5_77NAy0Sj"
      },
      "outputs": [],
      "source": [
        "# Create the model\n",
        "model = Model(inputs=inputs, outputs=outputs)"
      ]
    },
    {
      "cell_type": "code",
      "source": [
        "from re import A\n",
        "learning_rate = 5e-4\n",
        "optimizer = Adam(learning_rate=learning_rate)"
      ],
      "metadata": {
        "id": "Op6r2seq8BZc"
      },
      "execution_count": null,
      "outputs": []
    },
    {
      "cell_type": "code",
      "execution_count": null,
      "metadata": {
        "id": "tW7ckX5iy0Sj"
      },
      "outputs": [],
      "source": [
        "# Compile the model\n",
        "model.compile(optimizer=optimizer, loss='binary_crossentropy', metrics=['accuracy'])"
      ]
    },
    {
      "cell_type": "code",
      "execution_count": null,
      "metadata": {
        "id": "sYeqccjIy0Sj"
      },
      "outputs": [],
      "source": [
        "# Early stopping\n",
        "early_stopping = EarlyStopping(monitor='val_loss', patience=3, restore_best_weights=True)"
      ]
    },
    {
      "cell_type": "code",
      "source": [],
      "metadata": {
        "id": "ZisMEC8fpDB9"
      },
      "execution_count": null,
      "outputs": []
    },
    {
      "cell_type": "code",
      "execution_count": null,
      "metadata": {
        "id": "a6H_20tny0Sj",
        "outputId": "675b3983-afb3-4f07-ca8b-1c3da33f9810",
        "colab": {
          "base_uri": "https://localhost:8080/"
        }
      },
      "outputs": [
        {
          "output_type": "stream",
          "name": "stdout",
          "text": [
            "Epoch 1/4\n",
            "2344/2344 [==============================] - 561s 235ms/step - loss: 0.3020 - accuracy: 0.8696 - val_loss: 0.2747 - val_accuracy: 0.8844\n",
            "Epoch 2/4\n",
            "2344/2344 [==============================] - 529s 225ms/step - loss: 0.2340 - accuracy: 0.9045 - val_loss: 0.2841 - val_accuracy: 0.8826\n",
            "Epoch 3/4\n",
            "2344/2344 [==============================] - 525s 224ms/step - loss: 0.1740 - accuracy: 0.9312 - val_loss: 0.3263 - val_accuracy: 0.8727\n",
            "Epoch 4/4\n",
            "2344/2344 [==============================] - 523s 223ms/step - loss: 0.1191 - accuracy: 0.9547 - val_loss: 0.3712 - val_accuracy: 0.8693\n"
          ]
        }
      ],
      "source": [
        "# Training\n",
        "history = model.fit(train_sequences, train_labels, validation_data=(test_sequences, test_labels), epochs=4, batch_size=1024, callbacks=[early_stopping])"
      ]
    },
    {
      "cell_type": "code",
      "execution_count": null,
      "metadata": {
        "id": "bedBH0Cvy0Sj",
        "colab": {
          "base_uri": "https://localhost:8080/"
        },
        "outputId": "59ad5cca-2867-4593-f336-e6df960169e8"
      },
      "outputs": [
        {
          "output_type": "stream",
          "name": "stdout",
          "text": [
            "16250/16250 [==============================] - 68s 4ms/step - loss: 0.2747 - accuracy: 0.8844\n",
            "Test Loss: 0.27472156286239624, Test Accuracy: 0.884395956993103\n"
          ]
        }
      ],
      "source": [
        "# Evaluate the model\n",
        "loss, accuracy = model.evaluate(test_sequences, test_labels)\n",
        "print(f'Test Loss: {loss}, Test Accuracy: {accuracy}')"
      ]
    },
    {
      "cell_type": "code",
      "source": [
        "# Predict the test set\n",
        "y_pred_probs = model.predict(test_sequences)\n",
        "y_pred = (y_pred_probs > 0.5).astype(int)\n",
        "\n",
        "# Classification report\n",
        "print(\"Classification Report:\")\n",
        "print(classification_report(test_labels, y_pred))\n"
      ],
      "metadata": {
        "id": "R7BbTlwSmMPX",
        "colab": {
          "base_uri": "https://localhost:8080/"
        },
        "outputId": "9bc5a12b-47bd-45df-e2db-575183e845fd"
      },
      "execution_count": null,
      "outputs": [
        {
          "output_type": "stream",
          "name": "stdout",
          "text": [
            "16250/16250 [==============================] - 56s 3ms/step\n",
            "Classification Report:\n",
            "              precision    recall  f1-score   support\n",
            "\n",
            "           0       0.88      0.89      0.89    259999\n",
            "           1       0.89      0.88      0.88    260000\n",
            "\n",
            "    accuracy                           0.88    519999\n",
            "   macro avg       0.88      0.88      0.88    519999\n",
            "weighted avg       0.88      0.88      0.88    519999\n",
            "\n"
          ]
        }
      ]
    },
    {
      "cell_type": "code",
      "source": [
        "# Confusion matrix\n",
        "conf_matrix = confusion_matrix(test_labels, y_pred)\n",
        "plt.figure(figsize=(8, 6))\n",
        "sns.heatmap(conf_matrix, annot=True, fmt='d', cmap='Blues', xticklabels=['Negative', 'Positive'], yticklabels=['Negative', 'Positive'])\n",
        "plt.xlabel('Predicted')\n",
        "plt.ylabel('True')\n",
        "plt.title('Confusion Matrix')\n",
        "plt.show()\n"
      ],
      "metadata": {
        "colab": {
          "base_uri": "https://localhost:8080/",
          "height": 564
        },
        "id": "AcfdNPvb2Rr7",
        "outputId": "9a8390fd-4c1c-48c3-b79b-336827459e21"
      },
      "execution_count": null,
      "outputs": [
        {
          "output_type": "display_data",
          "data": {
            "text/plain": [
              "<Figure size 800x600 with 2 Axes>"
            ],
            "image/png": "[encoded data removed]"
          },
          "metadata": {}
        }
      ]
    },
    {
      "cell_type": "code",
      "source": [
        "# Plot training history\n",
        "plt.plot(history.history['accuracy'], label='Train Accuracy')\n",
        "plt.plot(history.history['val_accuracy'], label='Validation Accuracy')\n",
        "plt.xlabel('Epochs')\n",
        "plt.ylabel('Accuracy')\n",
        "plt.legend()\n",
        "plt.title('Accuracy Curve')\n",
        "plt.show()"
      ],
      "metadata": {
        "colab": {
          "base_uri": "https://localhost:8080/",
          "height": 472
        },
        "id": "7TDehOwq2sF3",
        "outputId": "8ea37134-60cd-48ae-9b42-dae7454f9536"
      },
      "execution_count": null,
      "outputs": [
        {
          "output_type": "display_data",
          "data": {
            "text/plain": [
              "<Figure size 640x480 with 1 Axes>"
            ],
            "image/png": "[encoded data removed]"
          },
          "metadata": {}
        }
      ]
    },
    {
      "cell_type": "code",
      "source": [],
      "metadata": {
        "id": "V0yipY6i2u1q"
      },
      "execution_count": null,
      "outputs": []
    }
  ],
  "metadata": {
    "colab": {
      "provenance": [],
      "gpuType": "T4",
      "include_colab_link": true
    },
    "kernelspec": {
      "display_name": "Python 3",
      "name": "python3"
    },
    "language_info": {
      "codemirror_mode": {
        "name": "ipython",
        "version": 3
      },
      "file_extension": ".py",
      "mimetype": "text/x-python",
      "name": "python",
      "nbconvert_exporter": "python",
      "pygments_lexer": "ipython3",
      "version": "3.11.4"
    },
    "accelerator": "GPU"
  },
  "nbformat": 4,
  "nbformat_minor": 0
}